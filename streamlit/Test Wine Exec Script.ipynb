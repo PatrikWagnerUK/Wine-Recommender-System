{
 "cells": [
  {
   "cell_type": "code",
   "execution_count": 26,
   "id": "de18cc80",
   "metadata": {},
   "outputs": [],
   "source": [
    "import pandas as pd\n",
    "import numpy as np\n",
    "from sklearn.feature_extraction.text import TfidfVectorizer\n",
    "from sklearn.metrics.pairwise import linear_kernel, sigmoid_kernel"
   ]
  },
  {
   "cell_type": "code",
   "execution_count": 46,
   "id": "978be453",
   "metadata": {},
   "outputs": [],
   "source": [
    "index = pd.read_csv('sig_wines.csv')\n",
    "sig_score = pd.read_csv('sig_score.csv')\n",
    "predictors = pd.read_csv('predictors.csv')"
   ]
  },
  {
   "cell_type": "code",
   "execution_count": 28,
   "id": "4239f363",
   "metadata": {},
   "outputs": [],
   "source": [
    "index.set_index('name', inplace=True)\n",
    "index_series = index.iloc[:,0]"
   ]
  },
  {
   "cell_type": "code",
   "execution_count": null,
   "id": "a6441f3a",
   "metadata": {},
   "outputs": [],
   "source": []
  },
  {
   "cell_type": "code",
   "execution_count": 42,
   "id": "0f6c2db7",
   "metadata": {},
   "outputs": [
    {
     "ename": "NameError",
     "evalue": "name 'sig_kern' is not defined",
     "output_type": "error",
     "traceback": [
      "\u001b[1;31m---------------------------------------------------------------------------\u001b[0m",
      "\u001b[1;31mNameError\u001b[0m                                 Traceback (most recent call last)",
      "\u001b[1;32m~\\AppData\\Local\\Temp/ipykernel_19348/51450465.py\u001b[0m in \u001b[0;36m<module>\u001b[1;34m\u001b[0m\n\u001b[1;32m----> 1\u001b[1;33m \u001b[1;32mdef\u001b[0m \u001b[0mrecommend_wine\u001b[0m\u001b[1;33m(\u001b[0m\u001b[0mname\u001b[0m\u001b[1;33m,\u001b[0m \u001b[0msig_kern\u001b[0m\u001b[1;33m=\u001b[0m\u001b[0msig_kern\u001b[0m\u001b[1;33m)\u001b[0m\u001b[1;33m:\u001b[0m\u001b[1;33m\u001b[0m\u001b[1;33m\u001b[0m\u001b[0m\n\u001b[0m\u001b[0;32m      2\u001b[0m     \u001b[0mindx\u001b[0m \u001b[1;33m=\u001b[0m \u001b[0mindex\u001b[0m\u001b[1;33m[\u001b[0m\u001b[0mname\u001b[0m\u001b[1;33m]\u001b[0m\u001b[1;33m\u001b[0m\u001b[1;33m\u001b[0m\u001b[0m\n\u001b[0;32m      3\u001b[0m     \u001b[0msigmoid_score\u001b[0m \u001b[1;33m=\u001b[0m \u001b[0mlist\u001b[0m\u001b[1;33m(\u001b[0m\u001b[0menumerate\u001b[0m\u001b[1;33m(\u001b[0m\u001b[0msig_kern\u001b[0m\u001b[1;33m[\u001b[0m\u001b[0mindx\u001b[0m\u001b[1;33m]\u001b[0m\u001b[1;33m)\u001b[0m\u001b[1;33m)\u001b[0m\u001b[1;33m\u001b[0m\u001b[1;33m\u001b[0m\u001b[0m\n\u001b[0;32m      4\u001b[0m     \u001b[0msigmoid_score\u001b[0m \u001b[1;33m=\u001b[0m \u001b[0msorted\u001b[0m\u001b[1;33m(\u001b[0m\u001b[0msigmoid_score\u001b[0m\u001b[1;33m,\u001b[0m \u001b[0mkey\u001b[0m \u001b[1;33m=\u001b[0m \u001b[1;32mlambda\u001b[0m \u001b[0mx\u001b[0m\u001b[1;33m:\u001b[0m\u001b[0mx\u001b[0m\u001b[1;33m[\u001b[0m\u001b[1;36m1\u001b[0m\u001b[1;33m]\u001b[0m\u001b[1;33m,\u001b[0m \u001b[0mreverse\u001b[0m \u001b[1;33m=\u001b[0m \u001b[1;32mTrue\u001b[0m\u001b[1;33m)\u001b[0m\u001b[1;33m\u001b[0m\u001b[1;33m\u001b[0m\u001b[0m\n\u001b[0;32m      5\u001b[0m     \u001b[0msigmoid_score\u001b[0m \u001b[1;33m=\u001b[0m \u001b[0msigmoid_score\u001b[0m\u001b[1;33m[\u001b[0m\u001b[1;36m1\u001b[0m\u001b[1;33m:\u001b[0m\u001b[1;36m4\u001b[0m\u001b[1;33m]\u001b[0m\u001b[1;33m\u001b[0m\u001b[1;33m\u001b[0m\u001b[0m\n",
      "\u001b[1;31mNameError\u001b[0m: name 'sig_kern' is not defined"
     ]
    }
   ],
   "source": [
    "def recommend_wine(name, sig_kern=sig_kern):\n",
    "    indx = index_series[name]\n",
    "    sigmoid_score = list(enumerate(sig_kern[indx]))\n",
    "    sigmoid_score = sorted(sigmoid_score, key = lambda x:x[1], reverse = True)\n",
    "    sigmoid_score = sigmoid_score[1:4]\n",
    "    position = [i[0] for i in sigmoid_score]\n",
    "    return predictors.iloc[position]"
   ]
  },
  {
   "cell_type": "code",
   "execution_count": null,
   "id": "f24e1f4e",
   "metadata": {},
   "outputs": [],
   "source": []
  },
  {
   "cell_type": "code",
   "execution_count": null,
   "id": "aa9eafdb",
   "metadata": {},
   "outputs": [],
   "source": []
  },
  {
   "cell_type": "code",
   "execution_count": 37,
   "id": "1f7b2a29",
   "metadata": {},
   "outputs": [],
   "source": [
    "def recommend_wine(name):\n",
    "    indx = index_series[name]\n",
    "    #sigmoid_score = list(enumerate(sig_kern[indx]))\n",
    "    #sigmoid_score = sorted(sigmoid_score, key = lambda x:x[1], reverse = True)\n",
    "    score_return = sig_score[1:10]\n",
    "    position = [i[0] for i in score_return]\n",
    "    return predictors.iloc[position]\n",
    "\n",
    "    user_input = input('Show me wines similar to: ')\n",
    "    recommend_wine(user_input)"
   ]
  },
  {
   "cell_type": "code",
   "execution_count": null,
   "id": "e5486e26",
   "metadata": {},
   "outputs": [],
   "source": []
  },
  {
   "cell_type": "code",
   "execution_count": null,
   "id": "291a3617",
   "metadata": {},
   "outputs": [],
   "source": []
  },
  {
   "cell_type": "code",
   "execution_count": 38,
   "id": "3c598cee",
   "metadata": {},
   "outputs": [
    {
     "data": {
      "text/html": [
       "<div>\n",
       "<style scoped>\n",
       "    .dataframe tbody tr th:only-of-type {\n",
       "        vertical-align: middle;\n",
       "    }\n",
       "\n",
       "    .dataframe tbody tr th {\n",
       "        vertical-align: top;\n",
       "    }\n",
       "\n",
       "    .dataframe thead th {\n",
       "        text-align: right;\n",
       "    }\n",
       "</style>\n",
       "<table border=\"1\" class=\"dataframe\">\n",
       "  <thead>\n",
       "    <tr style=\"text-align: right;\">\n",
       "      <th></th>\n",
       "      <th>Unnamed: 0</th>\n",
       "      <th>country</th>\n",
       "      <th>description</th>\n",
       "      <th>designation</th>\n",
       "      <th>province</th>\n",
       "      <th>region_1</th>\n",
       "      <th>variety</th>\n",
       "      <th>winery</th>\n",
       "      <th>name</th>\n",
       "    </tr>\n",
       "  </thead>\n",
       "  <tbody>\n",
       "    <tr>\n",
       "      <th>3</th>\n",
       "      <td>3</td>\n",
       "      <td>Spain</td>\n",
       "      <td>Lush cedary black-fruit aromas are luxe and of...</td>\n",
       "      <td>Carodorum Único Crianza</td>\n",
       "      <td>Northern Spain</td>\n",
       "      <td>Toro</td>\n",
       "      <td>Tinta de Toro</td>\n",
       "      <td>Bodega Carmen Rodríguez</td>\n",
       "      <td>Bodega Carmen Rodríguez, Carodorum Único Crianza</td>\n",
       "    </tr>\n",
       "    <tr>\n",
       "      <th>0</th>\n",
       "      <td>0</td>\n",
       "      <td>Spain</td>\n",
       "      <td>Ripe aromas of fig, blackberry and cassis are ...</td>\n",
       "      <td>Carodorum Selección Especial Reserva</td>\n",
       "      <td>Northern Spain</td>\n",
       "      <td>Toro</td>\n",
       "      <td>Tinta de Toro</td>\n",
       "      <td>Bodega Carmen Rodríguez</td>\n",
       "      <td>Bodega Carmen Rodríguez, Carodorum Selección E...</td>\n",
       "    </tr>\n",
       "  </tbody>\n",
       "</table>\n",
       "</div>"
      ],
      "text/plain": [
       "   Unnamed: 0 country                                        description  \\\n",
       "3           3   Spain  Lush cedary black-fruit aromas are luxe and of...   \n",
       "0           0   Spain  Ripe aromas of fig, blackberry and cassis are ...   \n",
       "\n",
       "                            designation        province region_1  \\\n",
       "3               Carodorum Único Crianza  Northern Spain     Toro   \n",
       "0  Carodorum Selección Especial Reserva  Northern Spain     Toro   \n",
       "\n",
       "         variety                   winery  \\\n",
       "3  Tinta de Toro  Bodega Carmen Rodríguez   \n",
       "0  Tinta de Toro  Bodega Carmen Rodríguez   \n",
       "\n",
       "                                                name  \n",
       "3   Bodega Carmen Rodríguez, Carodorum Único Crianza  \n",
       "0  Bodega Carmen Rodríguez, Carodorum Selección E...  "
      ]
     },
     "execution_count": 38,
     "metadata": {},
     "output_type": "execute_result"
    }
   ],
   "source": [
    "recommend_wine('JC Cellars, The Imposter')"
   ]
  }
 ],
 "metadata": {
  "kernelspec": {
   "display_name": "Python 3 (ipykernel)",
   "language": "python",
   "name": "python3"
  },
  "language_info": {
   "codemirror_mode": {
    "name": "ipython",
    "version": 3
   },
   "file_extension": ".py",
   "mimetype": "text/x-python",
   "name": "python",
   "nbconvert_exporter": "python",
   "pygments_lexer": "ipython3",
   "version": "3.8.8"
  }
 },
 "nbformat": 4,
 "nbformat_minor": 5
}
